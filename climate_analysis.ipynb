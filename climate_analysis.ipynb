{
 "cells": [
  {
   "cell_type": "markdown",
   "metadata": {},
   "source": [
    "# Climate Analysis\n",
    "Now that the data is cleaned and packaged in an SQLite database, we will perform some basic climate analyses to explore and understand the data.\n",
    "\n",
    "This process will allow us to prototype some of the functions and queries that the final climate app will use to query and serve the data to the user."
   ]
  },
  {
   "cell_type": "markdown",
   "metadata": {},
   "source": [
    "## Bringing the Data Into Python\n",
    "We will use SQLAlchemy to bring the data back out of the database, and reflect the database schema in terms of Python classes. This will allow us to easily deal with query results as objects.\n",
    "\n",
    "SQLAlchemy's `automap_base()` will allow us to do this very easily.\n",
    "\n",
    "To more easily aggregate and visualize the data, we will then transform the query results into PANDAS dataframes."
   ]
  },
  {
   "cell_type": "markdown",
   "metadata": {},
   "source": [
    "### Dependencies"
   ]
  },
  {
   "cell_type": "code",
   "execution_count": 1,
   "metadata": {},
   "outputs": [],
   "source": [
    "import pandas as pd\n",
    "import datetime as dt\n",
    "\n",
    "import matplotlib\n",
    "matplotlib.use('nbagg')\n",
    "from matplotlib import style\n",
    "style.use('seaborn')\n",
    "import matplotlib.pyplot as plt\n",
    "\n",
    "from sqlalchemy import create_engine\n",
    "from sqlalchemy.ext.automap import automap_base\n",
    "from sqlalchemy.orm import Session"
   ]
  },
  {
   "cell_type": "markdown",
   "metadata": {},
   "source": [
    "### Connecting to the Database\n",
    "Here we supply the database url to create an engine object, and use the `.connect()` method to initiate the connection."
   ]
  },
  {
   "cell_type": "code",
   "execution_count": 2,
   "metadata": {},
   "outputs": [],
   "source": [
    "engine = create_engine('sqlite:///hawaii.sqlite')\n",
    "conn = engine.connect()"
   ]
  },
  {
   "cell_type": "markdown",
   "metadata": {},
   "source": [
    "### Reflecting the Database Schema\n",
    "This step reflects the database schema in terms of Python classes, so we can work with query results in terms of Python class objects."
   ]
  },
  {
   "cell_type": "code",
   "execution_count": 3,
   "metadata": {},
   "outputs": [],
   "source": [
    "Base = automap_base()\n",
    "Base.prepare(engine, reflect=True)"
   ]
  },
  {
   "cell_type": "code",
   "execution_count": 4,
   "metadata": {},
   "outputs": [
    {
     "data": {
      "text/plain": [
       "['hawaii_measurements', 'hawaii_stations']"
      ]
     },
     "execution_count": 4,
     "metadata": {},
     "output_type": "execute_result"
    }
   ],
   "source": [
    "# check reflected table names\n",
    "Base.classes.keys()"
   ]
  },
  {
   "cell_type": "code",
   "execution_count": 5,
   "metadata": {},
   "outputs": [],
   "source": [
    "# create references to reflected tables to use during query\n",
    "Station = Base.classes.hawaii_stations\n",
    "Measurement = Base.classes.hawaii_measurements"
   ]
  },
  {
   "cell_type": "markdown",
   "metadata": {},
   "source": [
    "### Opening a Session and Querying Database\n",
    "Here we begin a session to query the database, using our configured `engine`.\n",
    "\n",
    "Using `session`'s `.query()` method will allow us to query the database in a Pythonic way, with SQLAlchemy emitting the required SQL, and returning the data as Python objects.\n",
    "\n",
    "Check [SQLAlchemy's ORM Tutorial: Querying](https://docs.sqlalchemy.org/en/latest/orm/tutorial.html#querying) for more information on how to use `.query()`."
   ]
  },
  {
   "cell_type": "code",
   "execution_count": 6,
   "metadata": {},
   "outputs": [],
   "source": [
    "session = Session(engine)"
   ]
  },
  {
   "cell_type": "code",
   "execution_count": 7,
   "metadata": {},
   "outputs": [],
   "source": [
    "# query for first row in hawaii_measurements table to look at data structure\n",
    "first_row = session.query(Measurement).first()"
   ]
  },
  {
   "cell_type": "code",
   "execution_count": 8,
   "metadata": {},
   "outputs": [
    {
     "data": {
      "text/plain": [
       "{'_sa_instance_state': <sqlalchemy.orm.state.InstanceState at 0x1166f4160>,\n",
       " 'date': '2010-01-01',\n",
       " 'id': 1,\n",
       " 'prcp': 0.08,\n",
       " 'station': 'USC00519397',\n",
       " 'tobs': 65}"
      ]
     },
     "execution_count": 8,
     "metadata": {},
     "output_type": "execute_result"
    }
   ],
   "source": [
    "# look at returned object attributes using __dict__\n",
    "first_row.__dict__"
   ]
  },
  {
   "cell_type": "markdown",
   "metadata": {},
   "source": [
    "## Precipitation\n",
    "To understand the rainfall patterns in Hawaii better, let's design a query to pull the last 12 months of precipitation data from the database, then make a bar graph to visualize it.\n",
    "\n",
    "Because the data was collected more than a year ago, we will first find the last date in the database, then go 12 months back from that."
   ]
  },
  {
   "cell_type": "markdown",
   "metadata": {},
   "source": [
    "### Finding Last Date in Database\n",
    "Here we use sqlalchemy's `func.max()` to find the latest date in the database"
   ]
  },
  {
   "cell_type": "code",
   "execution_count": 9,
   "metadata": {},
   "outputs": [
    {
     "name": "stdout",
     "output_type": "stream",
     "text": [
      "The most recent date in the database is:  2017-08-23\n"
     ]
    }
   ],
   "source": [
    "# import func to use func.max() on date column\n",
    "from sqlalchemy import func\n",
    "# .scalar() extracts first element of first result\n",
    "last_db_date = session.query(func.max(Measurement.date)).scalar()\n",
    "print(\"The most recent date in the database is: \", last_db_date)"
   ]
  },
  {
   "cell_type": "code",
   "execution_count": 10,
   "metadata": {},
   "outputs": [
    {
     "name": "stdout",
     "output_type": "stream",
     "text": [
      "The date one year before the most recent date in the database is:  2016-08-23\n"
     ]
    }
   ],
   "source": [
    "# convert query result to datetime object to perform time math\n",
    "last_datetime = dt.datetime.strptime(last_db_date, '%Y-%m-%d')\n",
    "year_ago_datetime = last_datetime - dt.timedelta(days=365)\n",
    "print(\"The date one year before the most recent date in the database is: \", year_ago_datetime.strftime('%Y-%m-%d'))"
   ]
  },
  {
   "cell_type": "markdown",
   "metadata": {},
   "source": [
    "### Querying for 12 Months of Precipitation Data\n",
    "Here we pass in our start date, `year_ago_datetime`, into the filter method to get back only 12 months of data"
   ]
  },
  {
   "cell_type": "code",
   "execution_count": 11,
   "metadata": {},
   "outputs": [],
   "source": [
    "# extracting relevant data from date, precipitation columns from hawaii_measurements table\n",
    "results = session.query(Measurement.date, Measurement.prcp).filter(Measurement.date >= year_ago_datetime).all()\n",
    "#stat = pd.DataFrame(session.query(Station).all())"
   ]
  },
  {
   "cell_type": "markdown",
   "metadata": {},
   "source": [
    "### Loading Query Results into a PANDAS DataFrame\n",
    "The results array can be easily transformed to a dataframe after query.\n",
    "\n",
    "Because there are multiple precipitation measurements for any given date (remember, 9 stations reporting), the data will need to be grouped and aggregated before plotting. I chose to take the average of precipitation measurements for each day, by grouping by date, then applying `.mean()` to return the desired dataframe."
   ]
  },
  {
   "cell_type": "code",
   "execution_count": 83,
   "metadata": {},
   "outputs": [
    {
     "data": {
      "text/html": [
       "<div>\n",
       "<style scoped>\n",
       "    .dataframe tbody tr th:only-of-type {\n",
       "        vertical-align: middle;\n",
       "    }\n",
       "\n",
       "    .dataframe tbody tr th {\n",
       "        vertical-align: top;\n",
       "    }\n",
       "\n",
       "    .dataframe thead th {\n",
       "        text-align: right;\n",
       "    }\n",
       "</style>\n",
       "<table border=\"1\" class=\"dataframe\">\n",
       "  <thead>\n",
       "    <tr style=\"text-align: right;\">\n",
       "      <th></th>\n",
       "      <th>date</th>\n",
       "      <th>prcp</th>\n",
       "    </tr>\n",
       "  </thead>\n",
       "  <tbody>\n",
       "    <tr>\n",
       "      <th>0</th>\n",
       "      <td>2016-08-24</td>\n",
       "      <td>0.08</td>\n",
       "    </tr>\n",
       "    <tr>\n",
       "      <th>1</th>\n",
       "      <td>2016-08-25</td>\n",
       "      <td>0.08</td>\n",
       "    </tr>\n",
       "    <tr>\n",
       "      <th>2</th>\n",
       "      <td>2016-08-26</td>\n",
       "      <td>0.00</td>\n",
       "    </tr>\n",
       "    <tr>\n",
       "      <th>3</th>\n",
       "      <td>2016-08-27</td>\n",
       "      <td>0.00</td>\n",
       "    </tr>\n",
       "    <tr>\n",
       "      <th>4</th>\n",
       "      <td>2016-08-28</td>\n",
       "      <td>0.01</td>\n",
       "    </tr>\n",
       "  </tbody>\n",
       "</table>\n",
       "</div>"
      ],
      "text/plain": [
       "         date  prcp\n",
       "0  2016-08-24  0.08\n",
       "1  2016-08-25  0.08\n",
       "2  2016-08-26  0.00\n",
       "3  2016-08-27  0.00\n",
       "4  2016-08-28  0.01"
      ]
     },
     "execution_count": 83,
     "metadata": {},
     "output_type": "execute_result"
    }
   ],
   "source": [
    "# Transform results to dataframe\n",
    "last_yr_prcp = pd.DataFrame(results)\n",
    "last_yr_prcp.head()"
   ]
  },
  {
   "cell_type": "code",
   "execution_count": 90,
   "metadata": {},
   "outputs": [
    {
     "data": {
      "text/plain": [
       "dtype('<M8[ns]')"
      ]
     },
     "execution_count": 90,
     "metadata": {},
     "output_type": "execute_result"
    }
   ],
   "source": [
    "last_yr_prcp.date = pd.to_datetime(last_yr_prcp.date, format='%Y-%m-%d', errors='ignore')\n",
    "last_yr_prcp.date.dtype"
   ]
  },
  {
   "cell_type": "code",
   "execution_count": 91,
   "metadata": {},
   "outputs": [
    {
     "data": {
      "text/html": [
       "<div>\n",
       "<style scoped>\n",
       "    .dataframe tbody tr th:only-of-type {\n",
       "        vertical-align: middle;\n",
       "    }\n",
       "\n",
       "    .dataframe tbody tr th {\n",
       "        vertical-align: top;\n",
       "    }\n",
       "\n",
       "    .dataframe thead th {\n",
       "        text-align: right;\n",
       "    }\n",
       "</style>\n",
       "<table border=\"1\" class=\"dataframe\">\n",
       "  <thead>\n",
       "    <tr style=\"text-align: right;\">\n",
       "      <th></th>\n",
       "      <th>prcp</th>\n",
       "    </tr>\n",
       "    <tr>\n",
       "      <th>date</th>\n",
       "      <th></th>\n",
       "    </tr>\n",
       "  </thead>\n",
       "  <tbody>\n",
       "    <tr>\n",
       "      <th>2016-08-24</th>\n",
       "      <td>1.555000</td>\n",
       "    </tr>\n",
       "    <tr>\n",
       "      <th>2016-08-25</th>\n",
       "      <td>0.077143</td>\n",
       "    </tr>\n",
       "    <tr>\n",
       "      <th>2016-08-26</th>\n",
       "      <td>0.016667</td>\n",
       "    </tr>\n",
       "    <tr>\n",
       "      <th>2016-08-27</th>\n",
       "      <td>0.064000</td>\n",
       "    </tr>\n",
       "    <tr>\n",
       "      <th>2016-08-28</th>\n",
       "      <td>0.516667</td>\n",
       "    </tr>\n",
       "  </tbody>\n",
       "</table>\n",
       "</div>"
      ],
      "text/plain": [
       "                prcp\n",
       "date                \n",
       "2016-08-24  1.555000\n",
       "2016-08-25  0.077143\n",
       "2016-08-26  0.016667\n",
       "2016-08-27  0.064000\n",
       "2016-08-28  0.516667"
      ]
     },
     "execution_count": 91,
     "metadata": {},
     "output_type": "execute_result"
    }
   ],
   "source": [
    "# groupby date and aggregate by mean\n",
    "agg_prcp = last_yr_prcp.groupby('date').mean()\n",
    "agg_prcp.head()"
   ]
  },
  {
   "cell_type": "code",
   "execution_count": 92,
   "metadata": {},
   "outputs": [
    {
     "name": "stdout",
     "output_type": "stream",
     "text": [
      "Number of days represented in dataframe:  365\n"
     ]
    }
   ],
   "source": [
    "# check that we have one year of dates\n",
    "print(\"Number of days represented in dataframe: \", len(agg_prcp.index))"
   ]
  },
  {
   "cell_type": "markdown",
   "metadata": {},
   "source": [
    "### Plot Precipitation\n",
    "An interesting note. I first tried to plot the dataframe as is (using the index as X), but PANDAS made the plot with a too-dense set of x-tick labels. PANDAS is supposed to lower the resolution, only printing some x-tick labels, but I could not figure out why it wasn't doing this.\n",
    "\n",
    "I decided instead to construct a date index by hand using `pd.date_range()`. Supplying this as the x-axis caused PANDAS to format the plot correctly, with x-tick labels of low density. Still trying to figure out what happened. It seems that it worked because PANDAS didn't like the datatype `dtype('<M8[ns]')` of the index column, but because the custom DateRange Index was of a different datatype, it worked. Funny."
   ]
  },
  {
   "cell_type": "code",
   "execution_count": 96,
   "metadata": {
    "scrolled": false
   },
   "outputs": [
    {
     "data": {
      "application/javascript": [
       "/* Put everything inside the global mpl namespace */\n",
       "window.mpl = {};\n",
       "\n",
       "\n",
       "mpl.get_websocket_type = function() {\n",
       "    if (typeof(WebSocket) !== 'undefined') {\n",
       "        return WebSocket;\n",
       "    } else if (typeof(MozWebSocket) !== 'undefined') {\n",
       "        return MozWebSocket;\n",
       "    } else {\n",
       "        alert('Your browser does not have WebSocket support.' +\n",
       "              'Please try Chrome, Safari or Firefox ≥ 6. ' +\n",
       "              'Firefox 4 and 5 are also supported but you ' +\n",
       "              'have to enable WebSockets in about:config.');\n",
       "    };\n",
       "}\n",
       "\n",
       "mpl.figure = function(figure_id, websocket, ondownload, parent_element) {\n",
       "    this.id = figure_id;\n",
       "\n",
       "    this.ws = websocket;\n",
       "\n",
       "    this.supports_binary = (this.ws.binaryType != undefined);\n",
       "\n",
       "    if (!this.supports_binary) {\n",
       "        var warnings = document.getElementById(\"mpl-warnings\");\n",
       "        if (warnings) {\n",
       "            warnings.style.display = 'block';\n",
       "            warnings.textContent = (\n",
       "                \"This browser does not support binary websocket messages. \" +\n",
       "                    \"Performance may be slow.\");\n",
       "        }\n",
       "    }\n",
       "\n",
       "    this.imageObj = new Image();\n",
       "\n",
       "    this.context = undefined;\n",
       "    this.message = undefined;\n",
       "    this.canvas = undefined;\n",
       "    this.rubberband_canvas = undefined;\n",
       "    this.rubberband_context = undefined;\n",
       "    this.format_dropdown = undefined;\n",
       "\n",
       "    this.image_mode = 'full';\n",
       "\n",
       "    this.root = $('<div/>');\n",
       "    this._root_extra_style(this.root)\n",
       "    this.root.attr('style', 'display: inline-block');\n",
       "\n",
       "    $(parent_element).append(this.root);\n",
       "\n",
       "    this._init_header(this);\n",
       "    this._init_canvas(this);\n",
       "    this._init_toolbar(this);\n",
       "\n",
       "    var fig = this;\n",
       "\n",
       "    this.waiting = false;\n",
       "\n",
       "    this.ws.onopen =  function () {\n",
       "            fig.send_message(\"supports_binary\", {value: fig.supports_binary});\n",
       "            fig.send_message(\"send_image_mode\", {});\n",
       "            if (mpl.ratio != 1) {\n",
       "                fig.send_message(\"set_dpi_ratio\", {'dpi_ratio': mpl.ratio});\n",
       "            }\n",
       "            fig.send_message(\"refresh\", {});\n",
       "        }\n",
       "\n",
       "    this.imageObj.onload = function() {\n",
       "            if (fig.image_mode == 'full') {\n",
       "                // Full images could contain transparency (where diff images\n",
       "                // almost always do), so we need to clear the canvas so that\n",
       "                // there is no ghosting.\n",
       "                fig.context.clearRect(0, 0, fig.canvas.width, fig.canvas.height);\n",
       "            }\n",
       "            fig.context.drawImage(fig.imageObj, 0, 0);\n",
       "        };\n",
       "\n",
       "    this.imageObj.onunload = function() {\n",
       "        fig.ws.close();\n",
       "    }\n",
       "\n",
       "    this.ws.onmessage = this._make_on_message_function(this);\n",
       "\n",
       "    this.ondownload = ondownload;\n",
       "}\n",
       "\n",
       "mpl.figure.prototype._init_header = function() {\n",
       "    var titlebar = $(\n",
       "        '<div class=\"ui-dialog-titlebar ui-widget-header ui-corner-all ' +\n",
       "        'ui-helper-clearfix\"/>');\n",
       "    var titletext = $(\n",
       "        '<div class=\"ui-dialog-title\" style=\"width: 100%; ' +\n",
       "        'text-align: center; padding: 3px;\"/>');\n",
       "    titlebar.append(titletext)\n",
       "    this.root.append(titlebar);\n",
       "    this.header = titletext[0];\n",
       "}\n",
       "\n",
       "\n",
       "\n",
       "mpl.figure.prototype._canvas_extra_style = function(canvas_div) {\n",
       "\n",
       "}\n",
       "\n",
       "\n",
       "mpl.figure.prototype._root_extra_style = function(canvas_div) {\n",
       "\n",
       "}\n",
       "\n",
       "mpl.figure.prototype._init_canvas = function() {\n",
       "    var fig = this;\n",
       "\n",
       "    var canvas_div = $('<div/>');\n",
       "\n",
       "    canvas_div.attr('style', 'position: relative; clear: both; outline: 0');\n",
       "\n",
       "    function canvas_keyboard_event(event) {\n",
       "        return fig.key_event(event, event['data']);\n",
       "    }\n",
       "\n",
       "    canvas_div.keydown('key_press', canvas_keyboard_event);\n",
       "    canvas_div.keyup('key_release', canvas_keyboard_event);\n",
       "    this.canvas_div = canvas_div\n",
       "    this._canvas_extra_style(canvas_div)\n",
       "    this.root.append(canvas_div);\n",
       "\n",
       "    var canvas = $('<canvas/>');\n",
       "    canvas.addClass('mpl-canvas');\n",
       "    canvas.attr('style', \"left: 0; top: 0; z-index: 0; outline: 0\")\n",
       "\n",
       "    this.canvas = canvas[0];\n",
       "    this.context = canvas[0].getContext(\"2d\");\n",
       "\n",
       "    var backingStore = this.context.backingStorePixelRatio ||\n",
       "\tthis.context.webkitBackingStorePixelRatio ||\n",
       "\tthis.context.mozBackingStorePixelRatio ||\n",
       "\tthis.context.msBackingStorePixelRatio ||\n",
       "\tthis.context.oBackingStorePixelRatio ||\n",
       "\tthis.context.backingStorePixelRatio || 1;\n",
       "\n",
       "    mpl.ratio = (window.devicePixelRatio || 1) / backingStore;\n",
       "\n",
       "    var rubberband = $('<canvas/>');\n",
       "    rubberband.attr('style', \"position: absolute; left: 0; top: 0; z-index: 1;\")\n",
       "\n",
       "    var pass_mouse_events = true;\n",
       "\n",
       "    canvas_div.resizable({\n",
       "        start: function(event, ui) {\n",
       "            pass_mouse_events = false;\n",
       "        },\n",
       "        resize: function(event, ui) {\n",
       "            fig.request_resize(ui.size.width, ui.size.height);\n",
       "        },\n",
       "        stop: function(event, ui) {\n",
       "            pass_mouse_events = true;\n",
       "            fig.request_resize(ui.size.width, ui.size.height);\n",
       "        },\n",
       "    });\n",
       "\n",
       "    function mouse_event_fn(event) {\n",
       "        if (pass_mouse_events)\n",
       "            return fig.mouse_event(event, event['data']);\n",
       "    }\n",
       "\n",
       "    rubberband.mousedown('button_press', mouse_event_fn);\n",
       "    rubberband.mouseup('button_release', mouse_event_fn);\n",
       "    // Throttle sequential mouse events to 1 every 20ms.\n",
       "    rubberband.mousemove('motion_notify', mouse_event_fn);\n",
       "\n",
       "    rubberband.mouseenter('figure_enter', mouse_event_fn);\n",
       "    rubberband.mouseleave('figure_leave', mouse_event_fn);\n",
       "\n",
       "    canvas_div.on(\"wheel\", function (event) {\n",
       "        event = event.originalEvent;\n",
       "        event['data'] = 'scroll'\n",
       "        if (event.deltaY < 0) {\n",
       "            event.step = 1;\n",
       "        } else {\n",
       "            event.step = -1;\n",
       "        }\n",
       "        mouse_event_fn(event);\n",
       "    });\n",
       "\n",
       "    canvas_div.append(canvas);\n",
       "    canvas_div.append(rubberband);\n",
       "\n",
       "    this.rubberband = rubberband;\n",
       "    this.rubberband_canvas = rubberband[0];\n",
       "    this.rubberband_context = rubberband[0].getContext(\"2d\");\n",
       "    this.rubberband_context.strokeStyle = \"#000000\";\n",
       "\n",
       "    this._resize_canvas = function(width, height) {\n",
       "        // Keep the size of the canvas, canvas container, and rubber band\n",
       "        // canvas in synch.\n",
       "        canvas_div.css('width', width)\n",
       "        canvas_div.css('height', height)\n",
       "\n",
       "        canvas.attr('width', width * mpl.ratio);\n",
       "        canvas.attr('height', height * mpl.ratio);\n",
       "        canvas.attr('style', 'width: ' + width + 'px; height: ' + height + 'px;');\n",
       "\n",
       "        rubberband.attr('width', width);\n",
       "        rubberband.attr('height', height);\n",
       "    }\n",
       "\n",
       "    // Set the figure to an initial 600x600px, this will subsequently be updated\n",
       "    // upon first draw.\n",
       "    this._resize_canvas(600, 600);\n",
       "\n",
       "    // Disable right mouse context menu.\n",
       "    $(this.rubberband_canvas).bind(\"contextmenu\",function(e){\n",
       "        return false;\n",
       "    });\n",
       "\n",
       "    function set_focus () {\n",
       "        canvas.focus();\n",
       "        canvas_div.focus();\n",
       "    }\n",
       "\n",
       "    window.setTimeout(set_focus, 100);\n",
       "}\n",
       "\n",
       "mpl.figure.prototype._init_toolbar = function() {\n",
       "    var fig = this;\n",
       "\n",
       "    var nav_element = $('<div/>')\n",
       "    nav_element.attr('style', 'width: 100%');\n",
       "    this.root.append(nav_element);\n",
       "\n",
       "    // Define a callback function for later on.\n",
       "    function toolbar_event(event) {\n",
       "        return fig.toolbar_button_onclick(event['data']);\n",
       "    }\n",
       "    function toolbar_mouse_event(event) {\n",
       "        return fig.toolbar_button_onmouseover(event['data']);\n",
       "    }\n",
       "\n",
       "    for(var toolbar_ind in mpl.toolbar_items) {\n",
       "        var name = mpl.toolbar_items[toolbar_ind][0];\n",
       "        var tooltip = mpl.toolbar_items[toolbar_ind][1];\n",
       "        var image = mpl.toolbar_items[toolbar_ind][2];\n",
       "        var method_name = mpl.toolbar_items[toolbar_ind][3];\n",
       "\n",
       "        if (!name) {\n",
       "            // put a spacer in here.\n",
       "            continue;\n",
       "        }\n",
       "        var button = $('<button/>');\n",
       "        button.addClass('ui-button ui-widget ui-state-default ui-corner-all ' +\n",
       "                        'ui-button-icon-only');\n",
       "        button.attr('role', 'button');\n",
       "        button.attr('aria-disabled', 'false');\n",
       "        button.click(method_name, toolbar_event);\n",
       "        button.mouseover(tooltip, toolbar_mouse_event);\n",
       "\n",
       "        var icon_img = $('<span/>');\n",
       "        icon_img.addClass('ui-button-icon-primary ui-icon');\n",
       "        icon_img.addClass(image);\n",
       "        icon_img.addClass('ui-corner-all');\n",
       "\n",
       "        var tooltip_span = $('<span/>');\n",
       "        tooltip_span.addClass('ui-button-text');\n",
       "        tooltip_span.html(tooltip);\n",
       "\n",
       "        button.append(icon_img);\n",
       "        button.append(tooltip_span);\n",
       "\n",
       "        nav_element.append(button);\n",
       "    }\n",
       "\n",
       "    var fmt_picker_span = $('<span/>');\n",
       "\n",
       "    var fmt_picker = $('<select/>');\n",
       "    fmt_picker.addClass('mpl-toolbar-option ui-widget ui-widget-content');\n",
       "    fmt_picker_span.append(fmt_picker);\n",
       "    nav_element.append(fmt_picker_span);\n",
       "    this.format_dropdown = fmt_picker[0];\n",
       "\n",
       "    for (var ind in mpl.extensions) {\n",
       "        var fmt = mpl.extensions[ind];\n",
       "        var option = $(\n",
       "            '<option/>', {selected: fmt === mpl.default_extension}).html(fmt);\n",
       "        fmt_picker.append(option)\n",
       "    }\n",
       "\n",
       "    // Add hover states to the ui-buttons\n",
       "    $( \".ui-button\" ).hover(\n",
       "        function() { $(this).addClass(\"ui-state-hover\");},\n",
       "        function() { $(this).removeClass(\"ui-state-hover\");}\n",
       "    );\n",
       "\n",
       "    var status_bar = $('<span class=\"mpl-message\"/>');\n",
       "    nav_element.append(status_bar);\n",
       "    this.message = status_bar[0];\n",
       "}\n",
       "\n",
       "mpl.figure.prototype.request_resize = function(x_pixels, y_pixels) {\n",
       "    // Request matplotlib to resize the figure. Matplotlib will then trigger a resize in the client,\n",
       "    // which will in turn request a refresh of the image.\n",
       "    this.send_message('resize', {'width': x_pixels, 'height': y_pixels});\n",
       "}\n",
       "\n",
       "mpl.figure.prototype.send_message = function(type, properties) {\n",
       "    properties['type'] = type;\n",
       "    properties['figure_id'] = this.id;\n",
       "    this.ws.send(JSON.stringify(properties));\n",
       "}\n",
       "\n",
       "mpl.figure.prototype.send_draw_message = function() {\n",
       "    if (!this.waiting) {\n",
       "        this.waiting = true;\n",
       "        this.ws.send(JSON.stringify({type: \"draw\", figure_id: this.id}));\n",
       "    }\n",
       "}\n",
       "\n",
       "\n",
       "mpl.figure.prototype.handle_save = function(fig, msg) {\n",
       "    var format_dropdown = fig.format_dropdown;\n",
       "    var format = format_dropdown.options[format_dropdown.selectedIndex].value;\n",
       "    fig.ondownload(fig, format);\n",
       "}\n",
       "\n",
       "\n",
       "mpl.figure.prototype.handle_resize = function(fig, msg) {\n",
       "    var size = msg['size'];\n",
       "    if (size[0] != fig.canvas.width || size[1] != fig.canvas.height) {\n",
       "        fig._resize_canvas(size[0], size[1]);\n",
       "        fig.send_message(\"refresh\", {});\n",
       "    };\n",
       "}\n",
       "\n",
       "mpl.figure.prototype.handle_rubberband = function(fig, msg) {\n",
       "    var x0 = msg['x0'] / mpl.ratio;\n",
       "    var y0 = (fig.canvas.height - msg['y0']) / mpl.ratio;\n",
       "    var x1 = msg['x1'] / mpl.ratio;\n",
       "    var y1 = (fig.canvas.height - msg['y1']) / mpl.ratio;\n",
       "    x0 = Math.floor(x0) + 0.5;\n",
       "    y0 = Math.floor(y0) + 0.5;\n",
       "    x1 = Math.floor(x1) + 0.5;\n",
       "    y1 = Math.floor(y1) + 0.5;\n",
       "    var min_x = Math.min(x0, x1);\n",
       "    var min_y = Math.min(y0, y1);\n",
       "    var width = Math.abs(x1 - x0);\n",
       "    var height = Math.abs(y1 - y0);\n",
       "\n",
       "    fig.rubberband_context.clearRect(\n",
       "        0, 0, fig.canvas.width, fig.canvas.height);\n",
       "\n",
       "    fig.rubberband_context.strokeRect(min_x, min_y, width, height);\n",
       "}\n",
       "\n",
       "mpl.figure.prototype.handle_figure_label = function(fig, msg) {\n",
       "    // Updates the figure title.\n",
       "    fig.header.textContent = msg['label'];\n",
       "}\n",
       "\n",
       "mpl.figure.prototype.handle_cursor = function(fig, msg) {\n",
       "    var cursor = msg['cursor'];\n",
       "    switch(cursor)\n",
       "    {\n",
       "    case 0:\n",
       "        cursor = 'pointer';\n",
       "        break;\n",
       "    case 1:\n",
       "        cursor = 'default';\n",
       "        break;\n",
       "    case 2:\n",
       "        cursor = 'crosshair';\n",
       "        break;\n",
       "    case 3:\n",
       "        cursor = 'move';\n",
       "        break;\n",
       "    }\n",
       "    fig.rubberband_canvas.style.cursor = cursor;\n",
       "}\n",
       "\n",
       "mpl.figure.prototype.handle_message = function(fig, msg) {\n",
       "    fig.message.textContent = msg['message'];\n",
       "}\n",
       "\n",
       "mpl.figure.prototype.handle_draw = function(fig, msg) {\n",
       "    // Request the server to send over a new figure.\n",
       "    fig.send_draw_message();\n",
       "}\n",
       "\n",
       "mpl.figure.prototype.handle_image_mode = function(fig, msg) {\n",
       "    fig.image_mode = msg['mode'];\n",
       "}\n",
       "\n",
       "mpl.figure.prototype.updated_canvas_event = function() {\n",
       "    // Called whenever the canvas gets updated.\n",
       "    this.send_message(\"ack\", {});\n",
       "}\n",
       "\n",
       "// A function to construct a web socket function for onmessage handling.\n",
       "// Called in the figure constructor.\n",
       "mpl.figure.prototype._make_on_message_function = function(fig) {\n",
       "    return function socket_on_message(evt) {\n",
       "        if (evt.data instanceof Blob) {\n",
       "            /* FIXME: We get \"Resource interpreted as Image but\n",
       "             * transferred with MIME type text/plain:\" errors on\n",
       "             * Chrome.  But how to set the MIME type?  It doesn't seem\n",
       "             * to be part of the websocket stream */\n",
       "            evt.data.type = \"image/png\";\n",
       "\n",
       "            /* Free the memory for the previous frames */\n",
       "            if (fig.imageObj.src) {\n",
       "                (window.URL || window.webkitURL).revokeObjectURL(\n",
       "                    fig.imageObj.src);\n",
       "            }\n",
       "\n",
       "            fig.imageObj.src = (window.URL || window.webkitURL).createObjectURL(\n",
       "                evt.data);\n",
       "            fig.updated_canvas_event();\n",
       "            fig.waiting = false;\n",
       "            return;\n",
       "        }\n",
       "        else if (typeof evt.data === 'string' && evt.data.slice(0, 21) == \"data:image/png;base64\") {\n",
       "            fig.imageObj.src = evt.data;\n",
       "            fig.updated_canvas_event();\n",
       "            fig.waiting = false;\n",
       "            return;\n",
       "        }\n",
       "\n",
       "        var msg = JSON.parse(evt.data);\n",
       "        var msg_type = msg['type'];\n",
       "\n",
       "        // Call the  \"handle_{type}\" callback, which takes\n",
       "        // the figure and JSON message as its only arguments.\n",
       "        try {\n",
       "            var callback = fig[\"handle_\" + msg_type];\n",
       "        } catch (e) {\n",
       "            console.log(\"No handler for the '\" + msg_type + \"' message type: \", msg);\n",
       "            return;\n",
       "        }\n",
       "\n",
       "        if (callback) {\n",
       "            try {\n",
       "                // console.log(\"Handling '\" + msg_type + \"' message: \", msg);\n",
       "                callback(fig, msg);\n",
       "            } catch (e) {\n",
       "                console.log(\"Exception inside the 'handler_\" + msg_type + \"' callback:\", e, e.stack, msg);\n",
       "            }\n",
       "        }\n",
       "    };\n",
       "}\n",
       "\n",
       "// from http://stackoverflow.com/questions/1114465/getting-mouse-location-in-canvas\n",
       "mpl.findpos = function(e) {\n",
       "    //this section is from http://www.quirksmode.org/js/events_properties.html\n",
       "    var targ;\n",
       "    if (!e)\n",
       "        e = window.event;\n",
       "    if (e.target)\n",
       "        targ = e.target;\n",
       "    else if (e.srcElement)\n",
       "        targ = e.srcElement;\n",
       "    if (targ.nodeType == 3) // defeat Safari bug\n",
       "        targ = targ.parentNode;\n",
       "\n",
       "    // jQuery normalizes the pageX and pageY\n",
       "    // pageX,Y are the mouse positions relative to the document\n",
       "    // offset() returns the position of the element relative to the document\n",
       "    var x = e.pageX - $(targ).offset().left;\n",
       "    var y = e.pageY - $(targ).offset().top;\n",
       "\n",
       "    return {\"x\": x, \"y\": y};\n",
       "};\n",
       "\n",
       "/*\n",
       " * return a copy of an object with only non-object keys\n",
       " * we need this to avoid circular references\n",
       " * http://stackoverflow.com/a/24161582/3208463\n",
       " */\n",
       "function simpleKeys (original) {\n",
       "  return Object.keys(original).reduce(function (obj, key) {\n",
       "    if (typeof original[key] !== 'object')\n",
       "        obj[key] = original[key]\n",
       "    return obj;\n",
       "  }, {});\n",
       "}\n",
       "\n",
       "mpl.figure.prototype.mouse_event = function(event, name) {\n",
       "    var canvas_pos = mpl.findpos(event)\n",
       "\n",
       "    if (name === 'button_press')\n",
       "    {\n",
       "        this.canvas.focus();\n",
       "        this.canvas_div.focus();\n",
       "    }\n",
       "\n",
       "    var x = canvas_pos.x * mpl.ratio;\n",
       "    var y = canvas_pos.y * mpl.ratio;\n",
       "\n",
       "    this.send_message(name, {x: x, y: y, button: event.button,\n",
       "                             step: event.step,\n",
       "                             guiEvent: simpleKeys(event)});\n",
       "\n",
       "    /* This prevents the web browser from automatically changing to\n",
       "     * the text insertion cursor when the button is pressed.  We want\n",
       "     * to control all of the cursor setting manually through the\n",
       "     * 'cursor' event from matplotlib */\n",
       "    event.preventDefault();\n",
       "    return false;\n",
       "}\n",
       "\n",
       "mpl.figure.prototype._key_event_extra = function(event, name) {\n",
       "    // Handle any extra behaviour associated with a key event\n",
       "}\n",
       "\n",
       "mpl.figure.prototype.key_event = function(event, name) {\n",
       "\n",
       "    // Prevent repeat events\n",
       "    if (name == 'key_press')\n",
       "    {\n",
       "        if (event.which === this._key)\n",
       "            return;\n",
       "        else\n",
       "            this._key = event.which;\n",
       "    }\n",
       "    if (name == 'key_release')\n",
       "        this._key = null;\n",
       "\n",
       "    var value = '';\n",
       "    if (event.ctrlKey && event.which != 17)\n",
       "        value += \"ctrl+\";\n",
       "    if (event.altKey && event.which != 18)\n",
       "        value += \"alt+\";\n",
       "    if (event.shiftKey && event.which != 16)\n",
       "        value += \"shift+\";\n",
       "\n",
       "    value += 'k';\n",
       "    value += event.which.toString();\n",
       "\n",
       "    this._key_event_extra(event, name);\n",
       "\n",
       "    this.send_message(name, {key: value,\n",
       "                             guiEvent: simpleKeys(event)});\n",
       "    return false;\n",
       "}\n",
       "\n",
       "mpl.figure.prototype.toolbar_button_onclick = function(name) {\n",
       "    if (name == 'download') {\n",
       "        this.handle_save(this, null);\n",
       "    } else {\n",
       "        this.send_message(\"toolbar_button\", {name: name});\n",
       "    }\n",
       "};\n",
       "\n",
       "mpl.figure.prototype.toolbar_button_onmouseover = function(tooltip) {\n",
       "    this.message.textContent = tooltip;\n",
       "};\n",
       "mpl.toolbar_items = [[\"Home\", \"Reset original view\", \"fa fa-home icon-home\", \"home\"], [\"Back\", \"Back to  previous view\", \"fa fa-arrow-left icon-arrow-left\", \"back\"], [\"Forward\", \"Forward to next view\", \"fa fa-arrow-right icon-arrow-right\", \"forward\"], [\"\", \"\", \"\", \"\"], [\"Pan\", \"Pan axes with left mouse, zoom with right\", \"fa fa-arrows icon-move\", \"pan\"], [\"Zoom\", \"Zoom to rectangle\", \"fa fa-square-o icon-check-empty\", \"zoom\"], [\"\", \"\", \"\", \"\"], [\"Download\", \"Download plot\", \"fa fa-floppy-o icon-save\", \"download\"]];\n",
       "\n",
       "mpl.extensions = [\"eps\", \"jpeg\", \"pdf\", \"png\", \"ps\", \"raw\", \"svg\", \"tif\"];\n",
       "\n",
       "mpl.default_extension = \"png\";var comm_websocket_adapter = function(comm) {\n",
       "    // Create a \"websocket\"-like object which calls the given IPython comm\n",
       "    // object with the appropriate methods. Currently this is a non binary\n",
       "    // socket, so there is still some room for performance tuning.\n",
       "    var ws = {};\n",
       "\n",
       "    ws.close = function() {\n",
       "        comm.close()\n",
       "    };\n",
       "    ws.send = function(m) {\n",
       "        //console.log('sending', m);\n",
       "        comm.send(m);\n",
       "    };\n",
       "    // Register the callback with on_msg.\n",
       "    comm.on_msg(function(msg) {\n",
       "        //console.log('receiving', msg['content']['data'], msg);\n",
       "        // Pass the mpl event to the overriden (by mpl) onmessage function.\n",
       "        ws.onmessage(msg['content']['data'])\n",
       "    });\n",
       "    return ws;\n",
       "}\n",
       "\n",
       "mpl.mpl_figure_comm = function(comm, msg) {\n",
       "    // This is the function which gets called when the mpl process\n",
       "    // starts-up an IPython Comm through the \"matplotlib\" channel.\n",
       "\n",
       "    var id = msg.content.data.id;\n",
       "    // Get hold of the div created by the display call when the Comm\n",
       "    // socket was opened in Python.\n",
       "    var element = $(\"#\" + id);\n",
       "    var ws_proxy = comm_websocket_adapter(comm)\n",
       "\n",
       "    function ondownload(figure, format) {\n",
       "        window.open(figure.imageObj.src);\n",
       "    }\n",
       "\n",
       "    var fig = new mpl.figure(id, ws_proxy,\n",
       "                           ondownload,\n",
       "                           element.get(0));\n",
       "\n",
       "    // Call onopen now - mpl needs it, as it is assuming we've passed it a real\n",
       "    // web socket which is closed, not our websocket->open comm proxy.\n",
       "    ws_proxy.onopen();\n",
       "\n",
       "    fig.parent_element = element.get(0);\n",
       "    fig.cell_info = mpl.find_output_cell(\"<div id='\" + id + \"'></div>\");\n",
       "    if (!fig.cell_info) {\n",
       "        console.error(\"Failed to find cell for figure\", id, fig);\n",
       "        return;\n",
       "    }\n",
       "\n",
       "    var output_index = fig.cell_info[2]\n",
       "    var cell = fig.cell_info[0];\n",
       "\n",
       "};\n",
       "\n",
       "mpl.figure.prototype.handle_close = function(fig, msg) {\n",
       "    var width = fig.canvas.width/mpl.ratio\n",
       "    fig.root.unbind('remove')\n",
       "\n",
       "    // Update the output cell to use the data from the current canvas.\n",
       "    fig.push_to_output();\n",
       "    var dataURL = fig.canvas.toDataURL();\n",
       "    // Re-enable the keyboard manager in IPython - without this line, in FF,\n",
       "    // the notebook keyboard shortcuts fail.\n",
       "    IPython.keyboard_manager.enable()\n",
       "    $(fig.parent_element).html('<img src=\"' + dataURL + '\" width=\"' + width + '\">');\n",
       "    fig.close_ws(fig, msg);\n",
       "}\n",
       "\n",
       "mpl.figure.prototype.close_ws = function(fig, msg){\n",
       "    fig.send_message('closing', msg);\n",
       "    // fig.ws.close()\n",
       "}\n",
       "\n",
       "mpl.figure.prototype.push_to_output = function(remove_interactive) {\n",
       "    // Turn the data on the canvas into data in the output cell.\n",
       "    var width = this.canvas.width/mpl.ratio\n",
       "    var dataURL = this.canvas.toDataURL();\n",
       "    this.cell_info[1]['text/html'] = '<img src=\"' + dataURL + '\" width=\"' + width + '\">';\n",
       "}\n",
       "\n",
       "mpl.figure.prototype.updated_canvas_event = function() {\n",
       "    // Tell IPython that the notebook contents must change.\n",
       "    IPython.notebook.set_dirty(true);\n",
       "    this.send_message(\"ack\", {});\n",
       "    var fig = this;\n",
       "    // Wait a second, then push the new image to the DOM so\n",
       "    // that it is saved nicely (might be nice to debounce this).\n",
       "    setTimeout(function () { fig.push_to_output() }, 1000);\n",
       "}\n",
       "\n",
       "mpl.figure.prototype._init_toolbar = function() {\n",
       "    var fig = this;\n",
       "\n",
       "    var nav_element = $('<div/>')\n",
       "    nav_element.attr('style', 'width: 100%');\n",
       "    this.root.append(nav_element);\n",
       "\n",
       "    // Define a callback function for later on.\n",
       "    function toolbar_event(event) {\n",
       "        return fig.toolbar_button_onclick(event['data']);\n",
       "    }\n",
       "    function toolbar_mouse_event(event) {\n",
       "        return fig.toolbar_button_onmouseover(event['data']);\n",
       "    }\n",
       "\n",
       "    for(var toolbar_ind in mpl.toolbar_items){\n",
       "        var name = mpl.toolbar_items[toolbar_ind][0];\n",
       "        var tooltip = mpl.toolbar_items[toolbar_ind][1];\n",
       "        var image = mpl.toolbar_items[toolbar_ind][2];\n",
       "        var method_name = mpl.toolbar_items[toolbar_ind][3];\n",
       "\n",
       "        if (!name) { continue; };\n",
       "\n",
       "        var button = $('<button class=\"btn btn-default\" href=\"#\" title=\"' + name + '\"><i class=\"fa ' + image + ' fa-lg\"></i></button>');\n",
       "        button.click(method_name, toolbar_event);\n",
       "        button.mouseover(tooltip, toolbar_mouse_event);\n",
       "        nav_element.append(button);\n",
       "    }\n",
       "\n",
       "    // Add the status bar.\n",
       "    var status_bar = $('<span class=\"mpl-message\" style=\"text-align:right; float: right;\"/>');\n",
       "    nav_element.append(status_bar);\n",
       "    this.message = status_bar[0];\n",
       "\n",
       "    // Add the close button to the window.\n",
       "    var buttongrp = $('<div class=\"btn-group inline pull-right\"></div>');\n",
       "    var button = $('<button class=\"btn btn-mini btn-primary\" href=\"#\" title=\"Stop Interaction\"><i class=\"fa fa-power-off icon-remove icon-large\"></i></button>');\n",
       "    button.click(function (evt) { fig.handle_close(fig, {}); } );\n",
       "    button.mouseover('Stop Interaction', toolbar_mouse_event);\n",
       "    buttongrp.append(button);\n",
       "    var titlebar = this.root.find($('.ui-dialog-titlebar'));\n",
       "    titlebar.prepend(buttongrp);\n",
       "}\n",
       "\n",
       "mpl.figure.prototype._root_extra_style = function(el){\n",
       "    var fig = this\n",
       "    el.on(\"remove\", function(){\n",
       "\tfig.close_ws(fig, {});\n",
       "    });\n",
       "}\n",
       "\n",
       "mpl.figure.prototype._canvas_extra_style = function(el){\n",
       "    // this is important to make the div 'focusable\n",
       "    el.attr('tabindex', 0)\n",
       "    // reach out to IPython and tell the keyboard manager to turn it's self\n",
       "    // off when our div gets focus\n",
       "\n",
       "    // location in version 3\n",
       "    if (IPython.notebook.keyboard_manager) {\n",
       "        IPython.notebook.keyboard_manager.register_events(el);\n",
       "    }\n",
       "    else {\n",
       "        // location in version 2\n",
       "        IPython.keyboard_manager.register_events(el);\n",
       "    }\n",
       "\n",
       "}\n",
       "\n",
       "mpl.figure.prototype._key_event_extra = function(event, name) {\n",
       "    var manager = IPython.notebook.keyboard_manager;\n",
       "    if (!manager)\n",
       "        manager = IPython.keyboard_manager;\n",
       "\n",
       "    // Check for shift+enter\n",
       "    if (event.shiftKey && event.which == 13) {\n",
       "        this.canvas_div.blur();\n",
       "        event.shiftKey = false;\n",
       "        // Send a \"J\" for go to next cell\n",
       "        event.which = 74;\n",
       "        event.keyCode = 74;\n",
       "        manager.command_mode();\n",
       "        manager.handle_keydown(event);\n",
       "    }\n",
       "}\n",
       "\n",
       "mpl.figure.prototype.handle_save = function(fig, msg) {\n",
       "    fig.ondownload(fig, null);\n",
       "}\n",
       "\n",
       "\n",
       "mpl.find_output_cell = function(html_output) {\n",
       "    // Return the cell and output element which can be found *uniquely* in the notebook.\n",
       "    // Note - this is a bit hacky, but it is done because the \"notebook_saving.Notebook\"\n",
       "    // IPython event is triggered only after the cells have been serialised, which for\n",
       "    // our purposes (turning an active figure into a static one), is too late.\n",
       "    var cells = IPython.notebook.get_cells();\n",
       "    var ncells = cells.length;\n",
       "    for (var i=0; i<ncells; i++) {\n",
       "        var cell = cells[i];\n",
       "        if (cell.cell_type === 'code'){\n",
       "            for (var j=0; j<cell.output_area.outputs.length; j++) {\n",
       "                var data = cell.output_area.outputs[j];\n",
       "                if (data.data) {\n",
       "                    // IPython >= 3 moved mimebundle to data attribute of output\n",
       "                    data = data.data;\n",
       "                }\n",
       "                if (data['text/html'] == html_output) {\n",
       "                    return [cell, data, j];\n",
       "                }\n",
       "            }\n",
       "        }\n",
       "    }\n",
       "}\n",
       "\n",
       "// Register the function which deals with the matplotlib target/channel.\n",
       "// The kernel may be null if the page has been refreshed.\n",
       "if (IPython.notebook.kernel != null) {\n",
       "    IPython.notebook.kernel.comm_manager.register_target('matplotlib', mpl.mpl_figure_comm);\n",
       "}\n"
      ],
      "text/plain": [
       "<IPython.core.display.Javascript object>"
      ]
     },
     "metadata": {},
     "output_type": "display_data"
    },
    {
     "data": {
      "text/html": [
       "<img src=\"data:image/png;base64,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\" width=\"800\">"
      ],
      "text/plain": [
       "<IPython.core.display.HTML object>"
      ]
     },
     "metadata": {},
     "output_type": "display_data"
    }
   ],
   "source": [
    "# construct date range identical to index\n",
    "dates = pd.date_range('2016-08-24', '2017-08-23', freq='D')\n",
    "# plot bar graph using date range\n",
    "plt.bar(dates, agg_prcp.prcp)\n",
    "plt.title('Average Daily Precipitation, Hawaii\\n2016-2017')\n",
    "plt.xlabel('Date')\n",
    "plt.ylabel('Precipitation (Inches)')\n",
    "plt.show()"
   ]
  },
  {
   "cell_type": "markdown",
   "metadata": {},
   "source": [
    "As we can see here, average rainfall across the island of Hawaii is all over the place. Drier periods seem to occur in November, mid-January, late March, and July. Wetter periods seem to occur in September, February, and May."
   ]
  },
  {
   "cell_type": "markdown",
   "metadata": {},
   "source": [
    "## Station Analysis"
   ]
  },
  {
   "cell_type": "code",
   "execution_count": null,
   "metadata": {},
   "outputs": [],
   "source": []
  },
  {
   "cell_type": "code",
   "execution_count": null,
   "metadata": {},
   "outputs": [],
   "source": [
    "first_row = session.query(Station).first()"
   ]
  },
  {
   "cell_type": "code",
   "execution_count": null,
   "metadata": {},
   "outputs": [],
   "source": [
    "first_row.__dict__"
   ]
  },
  {
   "cell_type": "code",
   "execution_count": null,
   "metadata": {},
   "outputs": [],
   "source": [
    "all_stations = session.query(Station).all()"
   ]
  },
  {
   "cell_type": "code",
   "execution_count": null,
   "metadata": {},
   "outputs": [],
   "source": [
    "len(all_stations)"
   ]
  },
  {
   "cell_type": "markdown",
   "metadata": {},
   "source": [
    "There are 9 stations in total."
   ]
  },
  {
   "cell_type": "code",
   "execution_count": null,
   "metadata": {},
   "outputs": [],
   "source": [
    "{'_sa_instance_state': <sqlalchemy.orm.state.InstanceState at 0x1290f94e0>,\n",
    " 'date': '2010-01-01',\n",
    " 'id': 1,\n",
    " 'prcp': 0.08,\n",
    " 'station': 'USC00519397',\n",
    " 'tobs': 65}"
   ]
  },
  {
   "cell_type": "code",
   "execution_count": null,
   "metadata": {},
   "outputs": [],
   "source": [
    "all_meas = pd.DataFrame(session.query(Measurement.date, Measurement.id, Measurement.prcp, Measurement.station, Measurement.tobs).all())"
   ]
  },
  {
   "cell_type": "code",
   "execution_count": null,
   "metadata": {},
   "outputs": [],
   "source": [
    "all_stat = pd.DataFrame(session.query(Station.elevation, Station.id, Station.latitude, Station.longitude, Station.name, Station.station).all())"
   ]
  },
  {
   "cell_type": "code",
   "execution_count": null,
   "metadata": {},
   "outputs": [],
   "source": [
    "all_meas.head()"
   ]
  },
  {
   "cell_type": "code",
   "execution_count": null,
   "metadata": {},
   "outputs": [],
   "source": [
    "all_stat.head(15)"
   ]
  },
  {
   "cell_type": "code",
   "execution_count": null,
   "metadata": {},
   "outputs": [],
   "source": [
    "grouped = all_meas.groupby('station').id.count()"
   ]
  },
  {
   "cell_type": "code",
   "execution_count": null,
   "metadata": {},
   "outputs": [],
   "source": [
    "groups_sorted = grouped.sort_values(ascending=False)"
   ]
  },
  {
   "cell_type": "code",
   "execution_count": null,
   "metadata": {},
   "outputs": [],
   "source": [
    "groups_sorted.head(10)"
   ]
  },
  {
   "cell_type": "markdown",
   "metadata": {},
   "source": [
    "Station USC00519281, Waihe'e has the highest number of observations, at 2772."
   ]
  },
  {
   "cell_type": "code",
   "execution_count": null,
   "metadata": {},
   "outputs": [],
   "source": [
    "just_waihee = all_meas[all_meas.station == 'USC00519281']"
   ]
  },
  {
   "cell_type": "code",
   "execution_count": null,
   "metadata": {},
   "outputs": [],
   "source": [
    "just_waihee.tobs.hist(bins=12)\n",
    "plt.xlabel('Degrees Farenheit')\n",
    "plt.ylabel('Frequency')\n",
    "plt.title('Frequency of Waihee Temperature Observations')\n",
    "plt.show()"
   ]
  },
  {
   "cell_type": "markdown",
   "metadata": {},
   "source": [
    "### Temperature Analysis"
   ]
  },
  {
   "cell_type": "code",
   "execution_count": null,
   "metadata": {},
   "outputs": [],
   "source": [
    "all_meas.date.dtype"
   ]
  },
  {
   "cell_type": "code",
   "execution_count": null,
   "metadata": {},
   "outputs": [],
   "source": [
    "all_meas.head()"
   ]
  },
  {
   "cell_type": "markdown",
   "metadata": {},
   "source": [
    "Need to change date to int to make it filterable:"
   ]
  },
  {
   "cell_type": "code",
   "execution_count": null,
   "metadata": {},
   "outputs": [],
   "source": [
    "new_all_meas = pd.DataFrame()\n",
    "for index, row in all_meas.iterrows():\n",
    "    parsed = row[0].replace('-', '')\n",
    "    new_all_meas.set_value(index, 'date', parsed)\n",
    "    new_all_meas.set_value(index, 'prcp', row[2])\n",
    "    new_all_meas.set_value(index, 'id', row[1])\n",
    "    new_all_meas.set_value(index, 'station', row[3])\n",
    "    new_all_meas.set_value(index, 'tobs', row[4])"
   ]
  },
  {
   "cell_type": "code",
   "execution_count": null,
   "metadata": {},
   "outputs": [],
   "source": [
    "new_all_meas['date'] = new_all_meas['date'].astype(int)"
   ]
  },
  {
   "cell_type": "code",
   "execution_count": null,
   "metadata": {},
   "outputs": [],
   "source": [
    "new_all_meas.head()"
   ]
  },
  {
   "cell_type": "code",
   "execution_count": null,
   "metadata": {},
   "outputs": [],
   "source": [
    "new_all_meas.date.dtype"
   ]
  },
  {
   "cell_type": "code",
   "execution_count": null,
   "metadata": {},
   "outputs": [],
   "source": [
    "def calc_temps(start_date, end_date):\n",
    "    parsed_start = int(start_date.replace('-', ''))\n",
    "    parsed_end = int(end_date.replace('-', ''))\n",
    "    subset_meas = new_all_meas[(new_all_meas.date >= parsed_start) & (new_all_meas.date <= parsed_end)]\n",
    "    maxtemp = subset_meas.tobs.max()\n",
    "    mintemp = subset_meas.tobs.min()\n",
    "    avgtemp = subset_meas.tobs.mean()\n",
    "    print('For date range selected, the:\\nMax temp is: ', maxtemp, '\\nMin temp is: ', mintemp, '\\nAverage temp is: ', avgtemp)\n",
    "    return maxtemp, mintemp, avgtemp"
   ]
  },
  {
   "cell_type": "code",
   "execution_count": null,
   "metadata": {},
   "outputs": [],
   "source": [
    "maxtemp, mintemp, avgtemp = calc_temps('2011-01-05', '2011-01-27')"
   ]
  },
  {
   "cell_type": "code",
   "execution_count": null,
   "metadata": {},
   "outputs": [],
   "source": [
    "plt.bar(0, avgtemp, yerr=(maxtemp - mintemp))\n",
    "plt.ylabel('Degrees Farenheit')\n",
    "plt.tick_params(\n",
    "    axis='x',          # changes apply to the x-axis\n",
    "    which='both',      # both major and minor ticks are affected\n",
    "    bottom='off',      # ticks along the bottom edge are off\n",
    "    top='off',         # ticks along the top edge are off\n",
    "    labelbottom='off')\n",
    "plt.title('Average Temperature Over Trip Duration')\n",
    "plt.show()"
   ]
  },
  {
   "cell_type": "code",
   "execution_count": null,
   "metadata": {},
   "outputs": [],
   "source": [
    "adict = new_all_meas[['date', 'prcp']].set_index('date').to_dict()"
   ]
  },
  {
   "cell_type": "code",
   "execution_count": null,
   "metadata": {},
   "outputs": [],
   "source": [
    "adict"
   ]
  },
  {
   "cell_type": "code",
   "execution_count": null,
   "metadata": {},
   "outputs": [],
   "source": [
    "anotherdict = all_stat.set_index('id').to_dict(orient='index')"
   ]
  },
  {
   "cell_type": "code",
   "execution_count": null,
   "metadata": {},
   "outputs": [],
   "source": [
    "anotherdict"
   ]
  },
  {
   "cell_type": "code",
   "execution_count": null,
   "metadata": {},
   "outputs": [],
   "source": []
  }
 ],
 "metadata": {
  "kernelspec": {
   "display_name": "Python 3",
   "language": "python",
   "name": "python3"
  },
  "language_info": {
   "codemirror_mode": {
    "name": "ipython",
    "version": 3
   },
   "file_extension": ".py",
   "mimetype": "text/x-python",
   "name": "python",
   "nbconvert_exporter": "python",
   "pygments_lexer": "ipython3",
   "version": "3.6.3"
  }
 },
 "nbformat": 4,
 "nbformat_minor": 2
}
