{
 "cells": [
  {
   "cell_type": "markdown",
   "metadata": {},
   "source": [
    "# Database Engineering\n",
    "Now that the data is cleaned, it is a good idea to store it in a relational database. This will allow for a faster access and easier, more flexible query.\n",
    "\n",
    "We will accomplish this step using [SQLAlchemy](https://www.sqlalchemy.org/), a database toolkit for Python.\n",
    "\n",
    "SQLAlchemy is an ORM (object-relational mapper) allows you do easily interact with relational databases by creating a mapping from a Python class object to a relational database table.\n",
    "\n",
    "It works by creating Python classes, one for each table in the database, whose attributes map to columns in the table. Once the schema is outlined by writing these classes, it is a simple matter to convert Python objects to records in the relational database, and vice-versa. \n",
    "\n",
    "In SQLAlchemy's words:\n",
    "\n",
    ">\"The SQLAlchemy Object Relational Mapper presents a method of associating user-defined Python classes with database tables, and instances of those classes (objects) with rows in their corresponding tables. It includes a system that transparently synchronizes all changes in state between objects and their related rows, called a unit of work, as well as a system for expressing database queries in terms of the user defined classes and their defined relationships between each other.\"\n",
    "\n",
    "This will make more sense as we go along, but for a full run-down, check the [SQLAlchemy Documentation](https://docs.sqlalchemy.org/en/latest/), especially the [Object Relational Tutorial](https://docs.sqlalchemy.org/en/latest/orm/tutorial.html)."
   ]
  },
  {
   "cell_type": "markdown",
   "metadata": {},
   "source": [
    "### Dependencies"
   ]
  },
  {
   "cell_type": "code",
   "execution_count": 1,
   "metadata": {},
   "outputs": [],
   "source": [
    "from sqlalchemy import create_engine\n",
    "from sqlalchemy.ext.declarative import declarative_base\n",
    "from sqlalchemy import Column, Integer, String, Float"
   ]
  },
  {
   "cell_type": "markdown",
   "metadata": {},
   "source": [
    "### Create the base class\n",
    "User-defined classes in SQLAlchemy inherit attributes of a base class, which must first be instantiated:"
   ]
  },
  {
   "cell_type": "code",
   "execution_count": 2,
   "metadata": {},
   "outputs": [],
   "source": [
    "Base = declarative_base()"
   ]
  },
  {
   "cell_type": "markdown",
   "metadata": {},
   "source": [
    "### Set up ORM templates\n",
    "Here we will declare our mapping from classes to the database tables. Within the class, we define details about the table to which we'll be mapping, primarily the table name, and names and datatypes of the columns."
   ]
  },
  {
   "cell_type": "code",
   "execution_count": 3,
   "metadata": {},
   "outputs": [],
   "source": [
    "class Stations(Base):\n",
    "    __tablename__ = 'hawaii_stations'\n",
    "    id = Column(Integer, primary_key=True)\n",
    "    station = Column(String)\n",
    "    name = Column(String)\n",
    "    latitude = Column(Float)\n",
    "    longitude = Column(Float)\n",
    "    elevation = Column(Float)\n",
    "    \n",
    "class Measurement(Base):\n",
    "    __tablename__ = 'hawaii_measurements'\n",
    "    id = Column(Integer, primary_key=True)\n",
    "    station = Column(String)\n",
    "    date = Column(String)\n",
    "    prcp = Column(Float)\n",
    "    tobs = Column(Integer)"
   ]
  },
  {
   "cell_type": "markdown",
   "metadata": {},
   "source": [
    "### Create and Connect to hawaii.sqlite database\n",
    "`create_engine()` returns an instance of `Engine`, which is used by SQLAlchemy behind the scenes to connect to and interact with the database. Here we supply a sqlite database url, which SQLAlchemy will create if it doesn't yet exist."
   ]
  },
  {
   "cell_type": "code",
   "execution_count": 4,
   "metadata": {},
   "outputs": [],
   "source": [
    "engine = create_engine('sqlite:///hawaii.sqlite')\n",
    "conn = engine.connect()"
   ]
  },
  {
   "cell_type": "markdown",
   "metadata": {},
   "source": [
    "### Initiate mapping with create_all\n",
    "The next step is to use the above `Engine` instance to connect to the database, and tell SQLAlchemy to emit the required SQL to construct the schema we defined with the above classes:"
   ]
  },
  {
   "cell_type": "code",
   "execution_count": 5,
   "metadata": {},
   "outputs": [],
   "source": [
    "Base.metadata.create_all(engine)"
   ]
  },
  {
   "cell_type": "markdown",
   "metadata": {},
   "source": [
    "Now the SQLite database is set up, and ready for the insertion of data."
   ]
  },
  {
   "cell_type": "markdown",
   "metadata": {},
   "source": [
    "### Creating a Session\n",
    "Now that the database schema has been constructed, it is time to start talking to the database.\n",
    "\n",
    "In order to manage transactions with the database, it is best to create a \"session\". During this session, SQLAlchemy tracks changes to objects, and provides all of the plumbing to persist changes to the database.\n",
    "\n",
    "The `session` object acts as a handle to the database."
   ]
  },
  {
   "cell_type": "code",
   "execution_count": 6,
   "metadata": {},
   "outputs": [],
   "source": [
    "from sqlalchemy.orm import Session\n",
    "session = Session(bind=engine)"
   ]
  },
  {
   "cell_type": "markdown",
   "metadata": {},
   "source": [
    "## Converting `.csv` Rows to Class Objects\n",
    "Remember that SQLAlchemy works by making a mapping from Python class objects to rows of a table. In order to reflect the objects into the database, they first must be constructed.\n",
    "\n",
    "To easily accomplish this, we will:\n",
    "1. Read in `.csv`s and convert them to PANDAS dataframes\n",
    "2. Use PANDAS function `.to_dict()` with the `orient='records'` kwarg, to convert each dataframe into a list of dictionaries (each dictionary representing one row)\n",
    "3. Loop over the dictionaries, each time instantiating a new class object of the appropriate class."
   ]
  },
  {
   "cell_type": "markdown",
   "metadata": {},
   "source": [
    "### Read in `.csv`s and Create Dataframes"
   ]
  },
  {
   "cell_type": "code",
   "execution_count": 7,
   "metadata": {},
   "outputs": [],
   "source": [
    "import pandas as pd\n",
    "csv1 = pd.read_csv('Output/stations_clean.csv')\n",
    "csv2 = pd.read_csv('Output/measurements_clean.csv')\n",
    "stations = pd.DataFrame(csv1)\n",
    "measurements = pd.DataFrame(csv2)"
   ]
  },
  {
   "cell_type": "markdown",
   "metadata": {},
   "source": [
    "### Convert Dataframes to Dictionaries"
   ]
  },
  {
   "cell_type": "code",
   "execution_count": 8,
   "metadata": {},
   "outputs": [],
   "source": [
    "# http://pandas-docs.github.io/pandas-docs-travis/io.html#orient-options\n",
    "station_dict = csv1.to_dict(orient='records')\n",
    "measurement_dict = csv2.to_dict(orient='records')"
   ]
  },
  {
   "cell_type": "code",
   "execution_count": 9,
   "metadata": {},
   "outputs": [
    {
     "data": {
      "text/plain": [
       "{'elevation': 3.0,\n",
       " 'latitude': 21.2716,\n",
       " 'longitude': -157.8168,\n",
       " 'name': 'WAIKIKI 717.2, HI US',\n",
       " 'station': 'USC00519397'}"
      ]
     },
     "execution_count": 9,
     "metadata": {},
     "output_type": "execute_result"
    }
   ],
   "source": [
    "station_dict[0]"
   ]
  },
  {
   "cell_type": "code",
   "execution_count": 10,
   "metadata": {},
   "outputs": [
    {
     "data": {
      "text/plain": [
       "{'date': '2010-01-01', 'prcp': 0.08, 'station': 'USC00519397', 'tobs': 65}"
      ]
     },
     "execution_count": 10,
     "metadata": {},
     "output_type": "execute_result"
    }
   ],
   "source": [
    "measurement_dict[0]"
   ]
  },
  {
   "cell_type": "markdown",
   "metadata": {},
   "source": [
    "## Populating the Tables\n",
    "Now we loop over the list of dictionaries, instantiating a new member of the appropriate class each time.\n",
    "\n",
    "`session.add()` stages the class object for reflection in the database, and `session.commit()` flushes all staged objects to the database.\n",
    "\n",
    "`**` preceding the dictionary instructs Python to unpack the dictionary, and supply the values as keyword arguments for class object instantiation."
   ]
  },
  {
   "cell_type": "code",
   "execution_count": 11,
   "metadata": {},
   "outputs": [],
   "source": [
    "for station in station_dict:\n",
    "    prepped_station = Stations(**station)\n",
    "    session.add(prepped_station)"
   ]
  },
  {
   "cell_type": "code",
   "execution_count": 12,
   "metadata": {},
   "outputs": [],
   "source": [
    "for measurement in measurement_dict:\n",
    "    prepped_measurement = Measurement(**measurement)\n",
    "    session.add(prepped_measurement)"
   ]
  },
  {
   "cell_type": "code",
   "execution_count": 13,
   "metadata": {},
   "outputs": [],
   "source": [
    "session.commit()"
   ]
  },
  {
   "cell_type": "markdown",
   "metadata": {},
   "source": [
    "## Querying the Database\n",
    "To test, we will query the database and print out some contents:"
   ]
  },
  {
   "cell_type": "code",
   "execution_count": 14,
   "metadata": {},
   "outputs": [
    {
     "name": "stdout",
     "output_type": "stream",
     "text": [
      "WAIKIKI 717.2, HI US\n",
      "KANEOHE 838.1, HI US\n",
      "KUALOA RANCH HEADQUARTERS 886.9, HI US\n",
      "PEARL CITY, HI US\n",
      "UPPER WAHIAWA 874.3, HI US\n",
      "WAIMANALO EXPERIMENTAL FARM, HI US\n",
      "WAIHEE 837.5, HI US\n",
      "HONOLULU OBSERVATORY 702.2, HI US\n",
      "MANOA LYON ARBO 785.2, HI US\n"
     ]
    }
   ],
   "source": [
    "station_list = session.query(Stations)\n",
    "for station in station_list:\n",
    "    print(station.name)"
   ]
  },
  {
   "cell_type": "code",
   "execution_count": 19,
   "metadata": {},
   "outputs": [
    {
     "data": {
      "text/plain": [
       "65"
      ]
     },
     "execution_count": 19,
     "metadata": {},
     "output_type": "execute_result"
    }
   ],
   "source": [
    "session.query(Measurement).first().tobs"
   ]
  },
  {
   "cell_type": "code",
   "execution_count": 20,
   "metadata": {},
   "outputs": [],
   "source": [
    "session.close()"
   ]
  }
 ],
 "metadata": {
  "kernelspec": {
   "display_name": "Python 3",
   "language": "python",
   "name": "python3"
  },
  "language_info": {
   "codemirror_mode": {
    "name": "ipython",
    "version": 3
   },
   "file_extension": ".py",
   "mimetype": "text/x-python",
   "name": "python",
   "nbconvert_exporter": "python",
   "pygments_lexer": "ipython3",
   "version": "3.6.3"
  }
 },
 "nbformat": 4,
 "nbformat_minor": 2
}
